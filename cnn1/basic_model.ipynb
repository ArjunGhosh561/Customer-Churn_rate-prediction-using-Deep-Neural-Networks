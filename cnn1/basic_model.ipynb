{
 "cells": [
  {
   "cell_type": "code",
   "execution_count": 1,
   "metadata": {},
   "outputs": [],
   "source": [
    "# importing the libraries\n",
    "import numpy as np\n",
    "import matplotlib.pyplot as plt\n",
    "import pandas as pd\n",
    " "
   ]
  },
  {
   "cell_type": "code",
   "execution_count": 2,
   "metadata": {},
   "outputs": [],
   "source": [
    "# Importing the dataset\n",
    "dataset=pd.read_csv('Churn_Modelling.csv')\n",
    "X=dataset.iloc[:,3:12].values\n",
    "y=dataset.iloc[:,13].values"
   ]
  },
  {
   "cell_type": "code",
   "execution_count": 3,
   "metadata": {},
   "outputs": [],
   "source": [
    "# Encoding the independent variables\n",
    "\n",
    "from sklearn.preprocessing import LabelEncoder, OneHotEncoder \n",
    "from sklearn.compose import ColumnTransformer\n",
    "\n",
    "LabelEncoder_1=LabelEncoder() \n",
    "X[:,1]=LabelEncoder_1.fit_transform(X[:,1]) ##This changes the form of country from letters to number\n",
    "\n",
    "LabelEncoder_2=LabelEncoder()\n",
    "X[:,2]=LabelEncoder_1.fit_transform(X[:,2]) ##This changes the form of gender from letters to number\n",
    "\n",
    "ct = ColumnTransformer([(\"Country\", OneHotEncoder(), [1])], remainder = 'passthrough') \n",
    "X = ct.fit_transform(X) \n",
    "\n",
    "X= X[:, 1:]"
   ]
  },
  {
   "cell_type": "code",
   "execution_count": 4,
   "metadata": {},
   "outputs": [],
   "source": [
    "#Splitting the dataset into training and testing sets\n",
    "\n",
    "from sklearn.model_selection import train_test_split\n",
    "X_train , X_test , y_train , y_test = train_test_split(X, y ,test_size=0.2, random_state=10)\n",
    "\n"
   ]
  },
  {
   "cell_type": "code",
   "execution_count": 5,
   "metadata": {},
   "outputs": [],
   "source": [
    "# Feature Scaling\n",
    "\n",
    "from sklearn.preprocessing import StandardScaler\n",
    "\n",
    "sc=StandardScaler()\n",
    "\n",
    "X_train = sc.fit_transform(X_train)\n",
    "\n",
    "X_test=sc.transform(X_test)"
   ]
  },
  {
   "cell_type": "code",
   "execution_count": 6,
   "metadata": {},
   "outputs": [],
   "source": [
    "# Importing keras and its modules\n",
    "import keras\n",
    "\n",
    "\n",
    "from keras.models import Sequential\n",
    "from keras.layers import Dense"
   ]
  },
  {
   "cell_type": "code",
   "execution_count": 7,
   "metadata": {},
   "outputs": [],
   "source": [
    "# Initailizing the ANN\n",
    "\n",
    "classifier = Sequential()"
   ]
  },
  {
   "cell_type": "code",
   "execution_count": 8,
   "metadata": {},
   "outputs": [],
   "source": [
    "# Adding the input layer and the hidden layer\n",
    "\n",
    "classifier.add(Dense(units=  5 ,  kernel_initializer = 'uniform' , activation='relu' , input_dim=  10))\n",
    "#units is the average of ip layer and op layer that (10+1)/2\n",
    "#relu determines rectifier activation function\n",
    "# input_dim is the number of input layers"
   ]
  },
  {
   "cell_type": "code",
   "execution_count": 9,
   "metadata": {},
   "outputs": [],
   "source": [
    "# Adding second hidden layer\n",
    "\n",
    "classifier.add(Dense( units=5 , kernel_initializer='uniform' ,  activation='relu'))"
   ]
  },
  {
   "cell_type": "code",
   "execution_count": 10,
   "metadata": {},
   "outputs": [],
   "source": [
    "# Creating the output layer\n",
    "\n",
    "classifier.add(Dense( units=1 , kernel_initializer='uniform' ,  activation='sigmoid'))"
   ]
  },
  {
   "cell_type": "code",
   "execution_count": 11,
   "metadata": {},
   "outputs": [],
   "source": [
    "# Compiling the ANN\n",
    "\n",
    "# classifer.compile(optimizer= 'adam' , loss=' binary_crossentropy' , metrics=['accuracy'])\n",
    "classifier.compile(optimizer='adam', loss='binary_crossentropy', metrics=['accuracy'])\n",
    "\n"
   ]
  },
  {
   "cell_type": "code",
   "execution_count": 12,
   "metadata": {},
   "outputs": [
    {
     "name": "stdout",
     "output_type": "stream",
     "text": [
      "Epoch 1/100\n",
      "800/800 [==============================] - 5s 3ms/step - loss: 0.4911 - accuracy: 0.7976\n",
      "Epoch 2/100\n",
      "800/800 [==============================] - 2s 3ms/step - loss: 0.4260 - accuracy: 0.7981\n",
      "Epoch 3/100\n",
      "800/800 [==============================] - 2s 3ms/step - loss: 0.4206 - accuracy: 0.7981\n",
      "Epoch 4/100\n",
      "800/800 [==============================] - 2s 3ms/step - loss: 0.4161 - accuracy: 0.8066\n",
      "Epoch 5/100\n",
      "800/800 [==============================] - 2s 3ms/step - loss: 0.4128 - accuracy: 0.8266\n",
      "Epoch 6/100\n",
      "800/800 [==============================] - 2s 2ms/step - loss: 0.4107 - accuracy: 0.8285\n",
      "Epoch 7/100\n",
      "800/800 [==============================] - 2s 3ms/step - loss: 0.4090 - accuracy: 0.8324\n",
      "Epoch 8/100\n",
      "800/800 [==============================] - 2s 3ms/step - loss: 0.4073 - accuracy: 0.8334\n",
      "Epoch 9/100\n",
      "800/800 [==============================] - 2s 2ms/step - loss: 0.4063 - accuracy: 0.8353\n",
      "Epoch 10/100\n",
      "800/800 [==============================] - 2s 2ms/step - loss: 0.4050 - accuracy: 0.8354\n",
      "Epoch 11/100\n",
      "800/800 [==============================] - 2s 2ms/step - loss: 0.4044 - accuracy: 0.8354\n",
      "Epoch 12/100\n",
      "800/800 [==============================] - 2s 2ms/step - loss: 0.4035 - accuracy: 0.8372\n",
      "Epoch 13/100\n",
      "800/800 [==============================] - 2s 2ms/step - loss: 0.4027 - accuracy: 0.8363\n",
      "Epoch 14/100\n",
      "800/800 [==============================] - 2s 2ms/step - loss: 0.4021 - accuracy: 0.8372\n",
      "Epoch 15/100\n",
      "800/800 [==============================] - 2s 2ms/step - loss: 0.4016 - accuracy: 0.8356\n",
      "Epoch 16/100\n",
      "800/800 [==============================] - 2s 2ms/step - loss: 0.4015 - accuracy: 0.8370\n",
      "Epoch 17/100\n",
      "800/800 [==============================] - 2s 2ms/step - loss: 0.4005 - accuracy: 0.8366\n",
      "Epoch 18/100\n",
      "800/800 [==============================] - 2s 2ms/step - loss: 0.4006 - accuracy: 0.8372\n",
      "Epoch 19/100\n",
      "800/800 [==============================] - 2s 2ms/step - loss: 0.4000 - accuracy: 0.8366\n",
      "Epoch 20/100\n",
      "800/800 [==============================] - 2s 2ms/step - loss: 0.3996 - accuracy: 0.8376\n",
      "Epoch 21/100\n",
      "800/800 [==============================] - 2s 2ms/step - loss: 0.3991 - accuracy: 0.8375\n",
      "Epoch 22/100\n",
      "800/800 [==============================] - 2s 2ms/step - loss: 0.3989 - accuracy: 0.8385\n",
      "Epoch 23/100\n",
      "800/800 [==============================] - 2s 2ms/step - loss: 0.3985 - accuracy: 0.8381\n",
      "Epoch 24/100\n",
      "800/800 [==============================] - 2s 2ms/step - loss: 0.3987 - accuracy: 0.8380\n",
      "Epoch 25/100\n",
      "800/800 [==============================] - 2s 3ms/step - loss: 0.3979 - accuracy: 0.8379\n",
      "Epoch 26/100\n",
      "800/800 [==============================] - 2s 3ms/step - loss: 0.3981 - accuracy: 0.8379\n",
      "Epoch 27/100\n",
      "800/800 [==============================] - 3s 3ms/step - loss: 0.3979 - accuracy: 0.8374\n",
      "Epoch 28/100\n",
      "800/800 [==============================] - 3s 3ms/step - loss: 0.3978 - accuracy: 0.8367\n",
      "Epoch 29/100\n",
      "800/800 [==============================] - 2s 2ms/step - loss: 0.3979 - accuracy: 0.8366\n",
      "Epoch 30/100\n",
      "800/800 [==============================] - 2s 2ms/step - loss: 0.3976 - accuracy: 0.8374\n",
      "Epoch 31/100\n",
      "800/800 [==============================] - 2s 3ms/step - loss: 0.3975 - accuracy: 0.8372\n",
      "Epoch 32/100\n",
      "800/800 [==============================] - 3s 3ms/step - loss: 0.3976 - accuracy: 0.8370\n",
      "Epoch 33/100\n",
      "800/800 [==============================] - 2s 2ms/step - loss: 0.3973 - accuracy: 0.8381\n",
      "Epoch 34/100\n",
      "800/800 [==============================] - 2s 2ms/step - loss: 0.3970 - accuracy: 0.8380\n",
      "Epoch 35/100\n",
      "800/800 [==============================] - 2s 2ms/step - loss: 0.3963 - accuracy: 0.8374\n",
      "Epoch 36/100\n",
      "800/800 [==============================] - 2s 3ms/step - loss: 0.3970 - accuracy: 0.8361\n",
      "Epoch 37/100\n",
      "800/800 [==============================] - 3s 3ms/step - loss: 0.3964 - accuracy: 0.8366\n",
      "Epoch 38/100\n",
      "800/800 [==============================] - 2s 2ms/step - loss: 0.3963 - accuracy: 0.8386\n",
      "Epoch 39/100\n",
      "800/800 [==============================] - 2s 2ms/step - loss: 0.3962 - accuracy: 0.8393\n",
      "Epoch 40/100\n",
      "800/800 [==============================] - 2s 3ms/step - loss: 0.3960 - accuracy: 0.8380\n",
      "Epoch 41/100\n",
      "800/800 [==============================] - 2s 3ms/step - loss: 0.3960 - accuracy: 0.8375\n",
      "Epoch 42/100\n",
      "800/800 [==============================] - 2s 2ms/step - loss: 0.3961 - accuracy: 0.8385\n",
      "Epoch 43/100\n",
      "800/800 [==============================] - 2s 3ms/step - loss: 0.3958 - accuracy: 0.8371\n",
      "Epoch 44/100\n",
      "800/800 [==============================] - 2s 2ms/step - loss: 0.3962 - accuracy: 0.8371\n",
      "Epoch 45/100\n",
      "800/800 [==============================] - 2s 2ms/step - loss: 0.3958 - accuracy: 0.8379\n",
      "Epoch 46/100\n",
      "800/800 [==============================] - 2s 3ms/step - loss: 0.3957 - accuracy: 0.8360\n",
      "Epoch 47/100\n",
      "800/800 [==============================] - 2s 2ms/step - loss: 0.3961 - accuracy: 0.8367\n",
      "Epoch 48/100\n",
      "800/800 [==============================] - 2s 2ms/step - loss: 0.3956 - accuracy: 0.8374\n",
      "Epoch 49/100\n",
      "800/800 [==============================] - 2s 3ms/step - loss: 0.3957 - accuracy: 0.8374\n",
      "Epoch 50/100\n",
      "800/800 [==============================] - 2s 2ms/step - loss: 0.3956 - accuracy: 0.8386\n",
      "Epoch 51/100\n",
      "800/800 [==============================] - 2s 3ms/step - loss: 0.3956 - accuracy: 0.8381\n",
      "Epoch 52/100\n",
      "800/800 [==============================] - 2s 3ms/step - loss: 0.3957 - accuracy: 0.8366\n",
      "Epoch 53/100\n",
      "800/800 [==============================] - 2s 3ms/step - loss: 0.3956 - accuracy: 0.8372\n",
      "Epoch 54/100\n",
      "800/800 [==============================] - 2s 3ms/step - loss: 0.3954 - accuracy: 0.8380\n",
      "Epoch 55/100\n",
      "800/800 [==============================] - 2s 3ms/step - loss: 0.3951 - accuracy: 0.8367\n",
      "Epoch 56/100\n",
      "800/800 [==============================] - 2s 2ms/step - loss: 0.3952 - accuracy: 0.8366\n",
      "Epoch 57/100\n",
      "800/800 [==============================] - 2s 3ms/step - loss: 0.3950 - accuracy: 0.8381\n",
      "Epoch 58/100\n",
      "800/800 [==============================] - 2s 3ms/step - loss: 0.3958 - accuracy: 0.8370\n",
      "Epoch 59/100\n",
      "800/800 [==============================] - 2s 3ms/step - loss: 0.3953 - accuracy: 0.8367\n",
      "Epoch 60/100\n",
      "800/800 [==============================] - 2s 3ms/step - loss: 0.3948 - accuracy: 0.8372\n",
      "Epoch 61/100\n",
      "800/800 [==============================] - 2s 3ms/step - loss: 0.3957 - accuracy: 0.8371\n",
      "Epoch 62/100\n",
      "800/800 [==============================] - 2s 3ms/step - loss: 0.3949 - accuracy: 0.8371\n",
      "Epoch 63/100\n",
      "800/800 [==============================] - 2s 2ms/step - loss: 0.3952 - accuracy: 0.8378\n",
      "Epoch 64/100\n",
      "800/800 [==============================] - 2s 3ms/step - loss: 0.3952 - accuracy: 0.8376\n",
      "Epoch 65/100\n",
      "800/800 [==============================] - 2s 3ms/step - loss: 0.3955 - accuracy: 0.8380\n",
      "Epoch 66/100\n",
      "800/800 [==============================] - 2s 3ms/step - loss: 0.3950 - accuracy: 0.8364\n",
      "Epoch 67/100\n",
      "800/800 [==============================] - 3s 4ms/step - loss: 0.3952 - accuracy: 0.8366\n",
      "Epoch 68/100\n",
      "800/800 [==============================] - 3s 4ms/step - loss: 0.3953 - accuracy: 0.8376\n",
      "Epoch 69/100\n",
      "800/800 [==============================] - 3s 4ms/step - loss: 0.3947 - accuracy: 0.8371\n",
      "Epoch 70/100\n",
      "800/800 [==============================] - 3s 3ms/step - loss: 0.3952 - accuracy: 0.8372\n",
      "Epoch 71/100\n",
      "800/800 [==============================] - 3s 4ms/step - loss: 0.3950 - accuracy: 0.8374\n",
      "Epoch 72/100\n",
      "800/800 [==============================] - 3s 3ms/step - loss: 0.3949 - accuracy: 0.8369\n",
      "Epoch 73/100\n",
      "800/800 [==============================] - 3s 3ms/step - loss: 0.3949 - accuracy: 0.8367\n",
      "Epoch 74/100\n",
      "800/800 [==============================] - 3s 3ms/step - loss: 0.3949 - accuracy: 0.8376\n",
      "Epoch 75/100\n",
      "800/800 [==============================] - 3s 3ms/step - loss: 0.3946 - accuracy: 0.8379\n",
      "Epoch 76/100\n",
      "800/800 [==============================] - 3s 3ms/step - loss: 0.3950 - accuracy: 0.8388\n",
      "Epoch 77/100\n",
      "800/800 [==============================] - 2s 3ms/step - loss: 0.3950 - accuracy: 0.8364\n",
      "Epoch 78/100\n",
      "800/800 [==============================] - 2s 3ms/step - loss: 0.3946 - accuracy: 0.8381\n",
      "Epoch 79/100\n",
      "800/800 [==============================] - 2s 3ms/step - loss: 0.3952 - accuracy: 0.8365\n",
      "Epoch 80/100\n",
      "800/800 [==============================] - 2s 3ms/step - loss: 0.3951 - accuracy: 0.8381\n",
      "Epoch 81/100\n",
      "800/800 [==============================] - 2s 3ms/step - loss: 0.3948 - accuracy: 0.8367\n",
      "Epoch 82/100\n",
      "800/800 [==============================] - 3s 3ms/step - loss: 0.3949 - accuracy: 0.8381\n",
      "Epoch 83/100\n",
      "800/800 [==============================] - 3s 3ms/step - loss: 0.3947 - accuracy: 0.8374\n",
      "Epoch 84/100\n",
      "800/800 [==============================] - 3s 3ms/step - loss: 0.3949 - accuracy: 0.8394\n",
      "Epoch 85/100\n",
      "800/800 [==============================] - 3s 4ms/step - loss: 0.3948 - accuracy: 0.8357\n",
      "Epoch 86/100\n",
      "800/800 [==============================] - 3s 4ms/step - loss: 0.3948 - accuracy: 0.8380\n",
      "Epoch 87/100\n",
      "800/800 [==============================] - 3s 4ms/step - loss: 0.3946 - accuracy: 0.8376\n",
      "Epoch 88/100\n",
      "800/800 [==============================] - 3s 3ms/step - loss: 0.3950 - accuracy: 0.8351\n",
      "Epoch 89/100\n",
      "800/800 [==============================] - 2s 3ms/step - loss: 0.3951 - accuracy: 0.8363\n",
      "Epoch 90/100\n",
      "800/800 [==============================] - 2s 2ms/step - loss: 0.3947 - accuracy: 0.8372\n",
      "Epoch 91/100\n",
      "800/800 [==============================] - 2s 3ms/step - loss: 0.3948 - accuracy: 0.8376\n",
      "Epoch 92/100\n",
      "800/800 [==============================] - 2s 3ms/step - loss: 0.3948 - accuracy: 0.8380\n",
      "Epoch 93/100\n",
      "800/800 [==============================] - 2s 3ms/step - loss: 0.3946 - accuracy: 0.8366\n",
      "Epoch 94/100\n",
      "800/800 [==============================] - 2s 2ms/step - loss: 0.3948 - accuracy: 0.8376\n",
      "Epoch 95/100\n",
      "800/800 [==============================] - 2s 2ms/step - loss: 0.3949 - accuracy: 0.8384\n",
      "Epoch 96/100\n",
      "800/800 [==============================] - 2s 3ms/step - loss: 0.3949 - accuracy: 0.8374\n",
      "Epoch 97/100\n",
      "800/800 [==============================] - 3s 3ms/step - loss: 0.3946 - accuracy: 0.8375\n",
      "Epoch 98/100\n",
      "800/800 [==============================] - 2s 3ms/step - loss: 0.3949 - accuracy: 0.8365\n",
      "Epoch 99/100\n",
      "800/800 [==============================] - 2s 3ms/step - loss: 0.3947 - accuracy: 0.8381\n",
      "Epoch 100/100\n",
      "800/800 [==============================] - 2s 3ms/step - loss: 0.3944 - accuracy: 0.8393\n"
     ]
    },
    {
     "data": {
      "text/plain": [
       "<keras.callbacks.History at 0x121dd9f29d0>"
      ]
     },
     "execution_count": 12,
     "metadata": {},
     "output_type": "execute_result"
    }
   ],
   "source": [
    "# Fitting the ann to the training set\n",
    "\n",
    "classifier.fit(X_train, y_train , batch_size = 10, epochs = 100)\n",
    "## Finding epochss"
   ]
  },
  {
   "cell_type": "code",
   "execution_count": 13,
   "metadata": {},
   "outputs": [
    {
     "name": "stdout",
     "output_type": "stream",
     "text": [
      "63/63 [==============================] - 0s 2ms/step\n"
     ]
    }
   ],
   "source": [
    "y_pred=classifier.predict(X_test)\n",
    "y_pred= (y_pred > 0.5) # Return true if probability is more the 50%"
   ]
  },
  {
   "cell_type": "code",
   "execution_count": 14,
   "metadata": {},
   "outputs": [],
   "source": [
    "# Making the confusion matrix which determines the accuracy of our predicted output to the actual output\n",
    "\n",
    "from sklearn.metrics import confusion_matrix\n",
    "\n",
    "cm = confusion_matrix(y_test,y_pred)\n",
    "#Some comment"
   ]
  }
 ],
 "metadata": {
  "kernelspec": {
   "display_name": "base",
   "language": "python",
   "name": "python3"
  },
  "language_info": {
   "codemirror_mode": {
    "name": "ipython",
    "version": 3
   },
   "file_extension": ".py",
   "mimetype": "text/x-python",
   "name": "python",
   "nbconvert_exporter": "python",
   "pygments_lexer": "ipython3",
   "version": "3.9.12"
  },
  "orig_nbformat": 4
 },
 "nbformat": 4,
 "nbformat_minor": 2
}

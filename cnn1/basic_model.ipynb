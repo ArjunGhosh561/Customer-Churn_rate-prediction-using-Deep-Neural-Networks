{
 "cells": [
  {
   "cell_type": "code",
   "execution_count": 78,
   "metadata": {},
   "outputs": [],
   "source": [
    "# importing the libraries\n",
    "import numpy as np\n",
    "import matplotlib.pyplot as plt\n",
    "import pandas as pd\n",
    "import tensorflow as tf\n",
    " "
   ]
  },
  {
   "cell_type": "code",
   "execution_count": 79,
   "metadata": {},
   "outputs": [],
   "source": [
    "# Importing the dataset\n",
    "dataset=pd.read_csv('Churn_Modelling.csv')\n",
    "X=dataset.iloc[:,3:13].values\n",
    "y=dataset.iloc[:,13].values"
   ]
  },
  {
   "cell_type": "code",
   "execution_count": 80,
   "metadata": {},
   "outputs": [],
   "source": [
    "# Encoding the independent variables\n",
    "\n",
    "from sklearn.preprocessing import LabelEncoder, OneHotEncoder \n",
    "from sklearn.compose import ColumnTransformer\n",
    "\n",
    "LabelEncoder_1=LabelEncoder() \n",
    "X[:,1]=LabelEncoder_1.fit_transform(X[:,1]) ##This changes the form of country from letters to number\n",
    "\n",
    "LabelEncoder_2=LabelEncoder()\n",
    "X[:,2]=LabelEncoder_1.fit_transform(X[:,2]) ##This changes the form of gender from letters to number\n",
    "\n",
    "ct = ColumnTransformer([(\"Country\", OneHotEncoder(), [1])], remainder = 'passthrough') \n",
    "X = ct.fit_transform(X) \n",
    "\n",
    "X= X[:, 1:]"
   ]
  },
  {
   "cell_type": "code",
   "execution_count": 81,
   "metadata": {},
   "outputs": [],
   "source": [
    "#Splitting the dataset into training and testing sets\n",
    "\n",
    "from sklearn.model_selection import train_test_split\n",
    "X_train , X_test , y_train , y_test = train_test_split(X, y ,test_size=0.2, random_state=0)\n",
    "\n"
   ]
  },
  {
   "cell_type": "code",
   "execution_count": 82,
   "metadata": {},
   "outputs": [],
   "source": [
    "# Feature Scaling\n",
    "\n",
    "from sklearn.preprocessing import StandardScaler\n",
    "\n",
    "sc=StandardScaler()\n",
    "\n",
    "X_train = sc.fit_transform(X_train)\n",
    "\n",
    "X_test=sc.transform(X_test)"
   ]
  },
  {
   "cell_type": "code",
   "execution_count": 83,
   "metadata": {},
   "outputs": [],
   "source": [
    "# Importing keras and its modules\n",
    "import keras\n",
    "\n",
    "\n",
    "from keras.models import Sequential\n",
    "from keras.layers import Dense"
   ]
  },
  {
   "cell_type": "code",
   "execution_count": 84,
   "metadata": {},
   "outputs": [],
   "source": [
    "# Initailizing the ANN\n",
    "\n",
    "classifier = Sequential()"
   ]
  },
  {
   "cell_type": "code",
   "execution_count": 85,
   "metadata": {},
   "outputs": [],
   "source": [
    "# Adding the input layer and the hidden layer\n",
    "\n",
    "classifier.add(Dense(units=  6,  kernel_initializer = 'uniform' , activation='relu' , input_dim=  11))\n",
    "#units is the average of ip layer and op layer that (10+1)/2\n",
    "#relu determines rectifier activation function\n",
    "# input_dim is the number of input layers"
   ]
  },
  {
   "cell_type": "code",
   "execution_count": 86,
   "metadata": {},
   "outputs": [],
   "source": [
    "# Adding second hidden layer\n",
    "\n",
    "classifier.add(Dense( units=6 , kernel_initializer='uniform' ,  activation='relu'))"
   ]
  },
  {
   "cell_type": "code",
   "execution_count": 87,
   "metadata": {},
   "outputs": [],
   "source": [
    "# Creating the output layer\n",
    "\n",
    "classifier.add(Dense( units=1 , kernel_initializer='uniform' ,  activation='sigmoid'))"
   ]
  },
  {
   "cell_type": "code",
   "execution_count": 88,
   "metadata": {},
   "outputs": [],
   "source": [
    "# Compiling the ANN\n",
    "\n",
    "# classifer.compile(optimizer= 'adam' , loss=' binary_crossentropy' , metrics=['accuracy'])\n",
    "classifier.compile(optimizer='adam', loss='binary_crossentropy', metrics=['accuracy'])\n",
    "\n"
   ]
  },
  {
   "cell_type": "code",
   "execution_count": 89,
   "metadata": {},
   "outputs": [
    {
     "name": "stdout",
     "output_type": "stream",
     "text": [
      "Epoch 1/100\n"
     ]
    },
    {
     "name": "stdout",
     "output_type": "stream",
     "text": [
      "800/800 [==============================] - 3s 2ms/step - loss: 0.4785 - accuracy: 0.7960\n",
      "Epoch 2/100\n",
      "800/800 [==============================] - 1s 2ms/step - loss: 0.4272 - accuracy: 0.7960\n",
      "Epoch 3/100\n",
      "800/800 [==============================] - 2s 2ms/step - loss: 0.4215 - accuracy: 0.8050\n",
      "Epoch 4/100\n",
      "800/800 [==============================] - 2s 2ms/step - loss: 0.4180 - accuracy: 0.8229\n",
      "Epoch 5/100\n",
      "800/800 [==============================] - 2s 2ms/step - loss: 0.4158 - accuracy: 0.8270\n",
      "Epoch 6/100\n",
      "800/800 [==============================] - 2s 3ms/step - loss: 0.4143 - accuracy: 0.8299\n",
      "Epoch 7/100\n",
      "800/800 [==============================] - 3s 3ms/step - loss: 0.4128 - accuracy: 0.8316\n",
      "Epoch 8/100\n",
      "800/800 [==============================] - 3s 3ms/step - loss: 0.4118 - accuracy: 0.8322\n",
      "Epoch 9/100\n",
      "800/800 [==============================] - 2s 3ms/step - loss: 0.4112 - accuracy: 0.8328\n",
      "Epoch 10/100\n",
      "800/800 [==============================] - 2s 2ms/step - loss: 0.4100 - accuracy: 0.8342\n",
      "Epoch 11/100\n",
      "800/800 [==============================] - 3s 3ms/step - loss: 0.4084 - accuracy: 0.8326\n",
      "Epoch 12/100\n",
      "800/800 [==============================] - 2s 2ms/step - loss: 0.4080 - accuracy: 0.8336\n",
      "Epoch 13/100\n",
      "800/800 [==============================] - 2s 3ms/step - loss: 0.4078 - accuracy: 0.8334\n",
      "Epoch 14/100\n",
      "800/800 [==============================] - 2s 3ms/step - loss: 0.4075 - accuracy: 0.8344\n",
      "Epoch 15/100\n",
      "800/800 [==============================] - 2s 3ms/step - loss: 0.4062 - accuracy: 0.8344\n",
      "Epoch 16/100\n",
      "800/800 [==============================] - 2s 3ms/step - loss: 0.4065 - accuracy: 0.8328\n",
      "Epoch 17/100\n",
      "800/800 [==============================] - 3s 3ms/step - loss: 0.4050 - accuracy: 0.8364\n",
      "Epoch 18/100\n",
      "800/800 [==============================] - 3s 3ms/step - loss: 0.4055 - accuracy: 0.8341\n",
      "Epoch 19/100\n",
      "800/800 [==============================] - 3s 3ms/step - loss: 0.4053 - accuracy: 0.8335\n",
      "Epoch 20/100\n",
      "800/800 [==============================] - 3s 3ms/step - loss: 0.4047 - accuracy: 0.8340\n",
      "Epoch 21/100\n",
      "800/800 [==============================] - 3s 3ms/step - loss: 0.4047 - accuracy: 0.8351\n",
      "Epoch 22/100\n",
      "800/800 [==============================] - 3s 3ms/step - loss: 0.4046 - accuracy: 0.8353\n",
      "Epoch 23/100\n",
      "800/800 [==============================] - 2s 2ms/step - loss: 0.4044 - accuracy: 0.8336\n",
      "Epoch 24/100\n",
      "800/800 [==============================] - 2s 3ms/step - loss: 0.4042 - accuracy: 0.8344\n",
      "Epoch 25/100\n",
      "800/800 [==============================] - 2s 2ms/step - loss: 0.4038 - accuracy: 0.8331\n",
      "Epoch 26/100\n",
      "800/800 [==============================] - 2s 2ms/step - loss: 0.4040 - accuracy: 0.8360\n",
      "Epoch 27/100\n",
      "800/800 [==============================] - 2s 2ms/step - loss: 0.4035 - accuracy: 0.8350\n",
      "Epoch 28/100\n",
      "800/800 [==============================] - 2s 2ms/step - loss: 0.4033 - accuracy: 0.8350\n",
      "Epoch 29/100\n",
      "800/800 [==============================] - 2s 2ms/step - loss: 0.4038 - accuracy: 0.8350\n",
      "Epoch 30/100\n",
      "800/800 [==============================] - 2s 3ms/step - loss: 0.4038 - accuracy: 0.8334\n",
      "Epoch 31/100\n",
      "800/800 [==============================] - 3s 3ms/step - loss: 0.4031 - accuracy: 0.8345\n",
      "Epoch 32/100\n",
      "800/800 [==============================] - 3s 3ms/step - loss: 0.4032 - accuracy: 0.8338\n",
      "Epoch 33/100\n",
      "800/800 [==============================] - 2s 3ms/step - loss: 0.4033 - accuracy: 0.8344\n",
      "Epoch 34/100\n",
      "800/800 [==============================] - 2s 3ms/step - loss: 0.4029 - accuracy: 0.8341\n",
      "Epoch 35/100\n",
      "800/800 [==============================] - 2s 3ms/step - loss: 0.4031 - accuracy: 0.8342\n",
      "Epoch 36/100\n",
      "800/800 [==============================] - 2s 3ms/step - loss: 0.4029 - accuracy: 0.8341\n",
      "Epoch 37/100\n",
      "800/800 [==============================] - 2s 3ms/step - loss: 0.4029 - accuracy: 0.8360\n",
      "Epoch 38/100\n",
      "800/800 [==============================] - 2s 2ms/step - loss: 0.4028 - accuracy: 0.8339\n",
      "Epoch 39/100\n",
      "800/800 [==============================] - 2s 3ms/step - loss: 0.4031 - accuracy: 0.8354\n",
      "Epoch 40/100\n",
      "800/800 [==============================] - 2s 2ms/step - loss: 0.4031 - accuracy: 0.8351\n",
      "Epoch 41/100\n",
      "800/800 [==============================] - 2s 3ms/step - loss: 0.4028 - accuracy: 0.8340\n",
      "Epoch 42/100\n",
      "800/800 [==============================] - 3s 4ms/step - loss: 0.4029 - accuracy: 0.8340\n",
      "Epoch 43/100\n",
      "800/800 [==============================] - 2s 2ms/step - loss: 0.4023 - accuracy: 0.8351\n",
      "Epoch 44/100\n",
      "800/800 [==============================] - 2s 2ms/step - loss: 0.4025 - accuracy: 0.8339\n",
      "Epoch 45/100\n",
      "800/800 [==============================] - 2s 3ms/step - loss: 0.4029 - accuracy: 0.8342\n",
      "Epoch 46/100\n",
      "800/800 [==============================] - 2s 3ms/step - loss: 0.4029 - accuracy: 0.8349\n",
      "Epoch 47/100\n",
      "800/800 [==============================] - 2s 2ms/step - loss: 0.4024 - accuracy: 0.8344\n",
      "Epoch 48/100\n",
      "800/800 [==============================] - 2s 2ms/step - loss: 0.4028 - accuracy: 0.8332\n",
      "Epoch 49/100\n",
      "800/800 [==============================] - 2s 3ms/step - loss: 0.4025 - accuracy: 0.8339\n",
      "Epoch 50/100\n",
      "800/800 [==============================] - 2s 3ms/step - loss: 0.4021 - accuracy: 0.8341\n",
      "Epoch 51/100\n",
      "800/800 [==============================] - 2s 3ms/step - loss: 0.4021 - accuracy: 0.8341\n",
      "Epoch 52/100\n",
      "800/800 [==============================] - 3s 3ms/step - loss: 0.4022 - accuracy: 0.8346\n",
      "Epoch 53/100\n",
      "800/800 [==============================] - 2s 3ms/step - loss: 0.4025 - accuracy: 0.8344\n",
      "Epoch 54/100\n",
      "800/800 [==============================] - 2s 3ms/step - loss: 0.4026 - accuracy: 0.8349\n",
      "Epoch 55/100\n",
      "800/800 [==============================] - 3s 3ms/step - loss: 0.4025 - accuracy: 0.8342\n",
      "Epoch 56/100\n",
      "800/800 [==============================] - 2s 3ms/step - loss: 0.4028 - accuracy: 0.8347\n",
      "Epoch 57/100\n",
      "800/800 [==============================] - 2s 2ms/step - loss: 0.4024 - accuracy: 0.8335\n",
      "Epoch 58/100\n",
      "800/800 [==============================] - 2s 3ms/step - loss: 0.4021 - accuracy: 0.8346\n",
      "Epoch 59/100\n",
      "800/800 [==============================] - 3s 3ms/step - loss: 0.4023 - accuracy: 0.8341\n",
      "Epoch 60/100\n",
      "800/800 [==============================] - 3s 3ms/step - loss: 0.4022 - accuracy: 0.8338\n",
      "Epoch 61/100\n",
      "800/800 [==============================] - 2s 2ms/step - loss: 0.4025 - accuracy: 0.8338\n",
      "Epoch 62/100\n",
      "800/800 [==============================] - 2s 2ms/step - loss: 0.4022 - accuracy: 0.8339\n",
      "Epoch 63/100\n",
      "800/800 [==============================] - 2s 2ms/step - loss: 0.4022 - accuracy: 0.8342\n",
      "Epoch 64/100\n",
      "800/800 [==============================] - 2s 3ms/step - loss: 0.4018 - accuracy: 0.8354\n",
      "Epoch 65/100\n",
      "800/800 [==============================] - 2s 3ms/step - loss: 0.4023 - accuracy: 0.8342\n",
      "Epoch 66/100\n",
      "800/800 [==============================] - 2s 2ms/step - loss: 0.4020 - accuracy: 0.8346\n",
      "Epoch 67/100\n",
      "800/800 [==============================] - 2s 2ms/step - loss: 0.4023 - accuracy: 0.8346\n",
      "Epoch 68/100\n",
      "800/800 [==============================] - 2s 3ms/step - loss: 0.4018 - accuracy: 0.8332\n",
      "Epoch 69/100\n",
      "800/800 [==============================] - 2s 3ms/step - loss: 0.4025 - accuracy: 0.8349\n",
      "Epoch 70/100\n",
      "800/800 [==============================] - 2s 3ms/step - loss: 0.4020 - accuracy: 0.8345\n",
      "Epoch 71/100\n",
      "800/800 [==============================] - 2s 3ms/step - loss: 0.4021 - accuracy: 0.8345\n",
      "Epoch 72/100\n",
      "800/800 [==============================] - 2s 3ms/step - loss: 0.4022 - accuracy: 0.8326\n",
      "Epoch 73/100\n",
      "800/800 [==============================] - 2s 2ms/step - loss: 0.4021 - accuracy: 0.8335\n",
      "Epoch 74/100\n",
      "800/800 [==============================] - 2s 3ms/step - loss: 0.4019 - accuracy: 0.8351\n",
      "Epoch 75/100\n",
      "800/800 [==============================] - 2s 3ms/step - loss: 0.4018 - accuracy: 0.8349\n",
      "Epoch 76/100\n",
      "800/800 [==============================] - 2s 2ms/step - loss: 0.4021 - accuracy: 0.8342\n",
      "Epoch 77/100\n",
      "800/800 [==============================] - 2s 2ms/step - loss: 0.4017 - accuracy: 0.8338\n",
      "Epoch 78/100\n",
      "800/800 [==============================] - 2s 2ms/step - loss: 0.4020 - accuracy: 0.8339\n",
      "Epoch 79/100\n",
      "800/800 [==============================] - 2s 3ms/step - loss: 0.4019 - accuracy: 0.8326\n",
      "Epoch 80/100\n",
      "800/800 [==============================] - 2s 3ms/step - loss: 0.4021 - accuracy: 0.8332\n",
      "Epoch 81/100\n",
      "800/800 [==============================] - 3s 3ms/step - loss: 0.4024 - accuracy: 0.8350\n",
      "Epoch 82/100\n",
      "800/800 [==============================] - 2s 3ms/step - loss: 0.4018 - accuracy: 0.8341\n",
      "Epoch 83/100\n",
      "800/800 [==============================] - 2s 2ms/step - loss: 0.4022 - accuracy: 0.8336\n",
      "Epoch 84/100\n",
      "800/800 [==============================] - 2s 3ms/step - loss: 0.4023 - accuracy: 0.8341\n",
      "Epoch 85/100\n",
      "800/800 [==============================] - 2s 2ms/step - loss: 0.4021 - accuracy: 0.8341\n",
      "Epoch 86/100\n",
      "800/800 [==============================] - 2s 2ms/step - loss: 0.4016 - accuracy: 0.8349\n",
      "Epoch 87/100\n",
      "800/800 [==============================] - 2s 2ms/step - loss: 0.4027 - accuracy: 0.8341\n",
      "Epoch 88/100\n",
      "800/800 [==============================] - 2s 2ms/step - loss: 0.4012 - accuracy: 0.8359\n",
      "Epoch 89/100\n",
      "800/800 [==============================] - 2s 2ms/step - loss: 0.4020 - accuracy: 0.8326\n",
      "Epoch 90/100\n",
      "800/800 [==============================] - 2s 2ms/step - loss: 0.4016 - accuracy: 0.8336\n",
      "Epoch 91/100\n",
      "800/800 [==============================] - 2s 3ms/step - loss: 0.4018 - accuracy: 0.8347\n",
      "Epoch 92/100\n",
      "800/800 [==============================] - 2s 2ms/step - loss: 0.4019 - accuracy: 0.8338\n",
      "Epoch 93/100\n",
      "800/800 [==============================] - 2s 3ms/step - loss: 0.4016 - accuracy: 0.8328\n",
      "Epoch 94/100\n",
      "800/800 [==============================] - 2s 3ms/step - loss: 0.4014 - accuracy: 0.8332\n",
      "Epoch 95/100\n",
      "800/800 [==============================] - 2s 2ms/step - loss: 0.4016 - accuracy: 0.8347\n",
      "Epoch 96/100\n",
      "800/800 [==============================] - 2s 2ms/step - loss: 0.4017 - accuracy: 0.8340\n",
      "Epoch 97/100\n",
      "800/800 [==============================] - 2s 2ms/step - loss: 0.4010 - accuracy: 0.8336\n",
      "Epoch 98/100\n",
      "800/800 [==============================] - 2s 3ms/step - loss: 0.4019 - accuracy: 0.8351\n",
      "Epoch 99/100\n",
      "800/800 [==============================] - 2s 2ms/step - loss: 0.4019 - accuracy: 0.8341\n",
      "Epoch 100/100\n",
      "800/800 [==============================] - 2s 2ms/step - loss: 0.4018 - accuracy: 0.8338\n"
     ]
    },
    {
     "data": {
      "text/plain": [
       "<keras.callbacks.History at 0x21ca083ddc0>"
      ]
     },
     "execution_count": 89,
     "metadata": {},
     "output_type": "execute_result"
    }
   ],
   "source": [
    "# Fitting the ann to the training set\n",
    "\n",
    "classifier.fit(X_train, y_train , batch_size = 10, epochs = 100)\n"
   ]
  },
  {
   "cell_type": "code",
   "execution_count": 90,
   "metadata": {},
   "outputs": [
    {
     "name": "stdout",
     "output_type": "stream",
     "text": [
      "63/63 [==============================] - 0s 2ms/step\n"
     ]
    }
   ],
   "source": [
    "y_pred=classifier.predict(X_test)\n",
    "y_pred= (y_pred > 0.5) # Return true if probability is more the 50%"
   ]
  },
  {
   "cell_type": "code",
   "execution_count": 91,
   "metadata": {},
   "outputs": [],
   "source": [
    "# Making the confusion matrix which determines the accuracy of our predicted output to the actual output\n",
    "\n",
    "from sklearn.metrics import confusion_matrix\n",
    "\n",
    "cm = confusion_matrix(y_test,y_pred)\n"
   ]
  },
  {
   "cell_type": "code",
   "execution_count": 92,
   "metadata": {},
   "outputs": [],
   "source": [
    "# Prediction of any one customer with  given features\n",
    "   # Geography : France\n",
    "   # Credit score: 600\n",
    "   ##  Gender : Male\n",
    "   ##  Age : 40\n",
    "   ##  Tenure : 3\n",
    "   ##  Balance : 60000\n",
    "   # Number of Products : 2\n",
    "   # Has credit card : YES\n",
    "   # Is active member : Yes\n",
    "   # Estimated Salary : 50000\n"
   ]
  },
  {
   "cell_type": "code",
   "execution_count": 100,
   "metadata": {},
   "outputs": [
    {
     "name": "stdout",
     "output_type": "stream",
     "text": [
      "1/1 [==============================] - 0s 69ms/step\n"
     ]
    }
   ],
   "source": [
    "# Scaling the new data\n",
    "new_prediction = classifier.predict(np.array([[0 , 0 , 600 , 1, 40 , 3 ,60000, 2, 1, 1 ,50000 ]])) \n"
   ]
  },
  {
   "cell_type": "code",
   "execution_count": 101,
   "metadata": {},
   "outputs": [],
   "source": [
    "\n",
    "new_prediction = (new_prediction > 0.5 )"
   ]
  },
  {
   "cell_type": "code",
   "execution_count": 103,
   "metadata": {},
   "outputs": [
    {
     "name": "stdout",
     "output_type": "stream",
     "text": [
      "[[False]]\n"
     ]
    }
   ],
   "source": [
    "# Prining the new prediction for the given customer\n",
    "print(new_prediction)"
   ]
  },
  {
   "cell_type": "code",
   "execution_count": 104,
   "metadata": {},
   "outputs": [],
   "source": [
    "cm = cm = confusion_matrix(y_test,y_pred)"
   ]
  }
 ],
 "metadata": {
  "kernelspec": {
   "display_name": "base",
   "language": "python",
   "name": "python3"
  },
  "language_info": {
   "codemirror_mode": {
    "name": "ipython",
    "version": 3
   },
   "file_extension": ".py",
   "mimetype": "text/x-python",
   "name": "python",
   "nbconvert_exporter": "python",
   "pygments_lexer": "ipython3",
   "version": "3.9.12"
  },
  "orig_nbformat": 4
 },
 "nbformat": 4,
 "nbformat_minor": 2
}
